{
 "cells": [
  {
   "cell_type": "markdown",
   "metadata": {},
   "source": [
    "# 기본적인 Jupyter 명령어 "
   ]
  },
  {
   "cell_type": "code",
   "execution_count": null,
   "metadata": {
    "collapsed": true
   },
   "outputs": [],
   "source": []
  },
  {
   "cell_type": "markdown",
   "metadata": {},
   "source": [
    "## 1. %%file\n",
    "\n",
    "%%file xxx.py 라고 셀 위에 입력하고 아랫줄에 프로그램 좌악 입력하면 xxx.py 라는 파일로 저장한다"
   ]
  },
  {
   "cell_type": "code",
   "execution_count": 1,
   "metadata": {
    "collapsed": false
   },
   "outputs": [
    {
     "name": "stdout",
     "output_type": "stream",
     "text": [
      "Overwriting white_noise_plot.py\n"
     ]
    }
   ],
   "source": [
    "%%file white_noise_plot.py\n",
    "\n",
    "from pylab import plot, show, legend\n",
    "from random import normalvariate\n",
    "\n",
    "x = [normalvariate(0, 1) for i in range(100)]\n",
    "plot(x, 'b-', label=\"white noise\")\n",
    "legend()\n",
    "show()"
   ]
  },
  {
   "cell_type": "code",
   "execution_count": null,
   "metadata": {
    "collapsed": true
   },
   "outputs": [],
   "source": []
  },
  {
   "cell_type": "code",
   "execution_count": null,
   "metadata": {
    "collapsed": true
   },
   "outputs": [],
   "source": []
  },
  {
   "cell_type": "markdown",
   "metadata": {},
   "source": [
    "## 2. cat\n",
    "cat xxx.py 라고 입력하고 Shift+Enter 누르면 xx.py 라는 프로그램 안에 어떤 내용이 있는지 알려준다."
   ]
  },
  {
   "cell_type": "code",
   "execution_count": 9,
   "metadata": {
    "collapsed": false
   },
   "outputs": [
    {
     "name": "stdout",
     "output_type": "stream",
     "text": [
      "\r\n",
      "from pylab import plot, show, legend\r\n",
      "from random import normalvariate\r\n",
      "\r\n",
      "x = [normalvariate(0, 1) for i in range(100)]\r\n",
      "plot(x, 'b-', label=\"white noise\")\r\n",
      "legend()\r\n",
      "show()"
     ]
    }
   ],
   "source": [
    "cat white_noise_plot.py"
   ]
  },
  {
   "cell_type": "code",
   "execution_count": null,
   "metadata": {
    "collapsed": true
   },
   "outputs": [],
   "source": []
  },
  {
   "cell_type": "code",
   "execution_count": null,
   "metadata": {
    "collapsed": true
   },
   "outputs": [],
   "source": []
  },
  {
   "cell_type": "markdown",
   "metadata": {},
   "source": [
    "## 3. run\n",
    "run xxx.py 라고 입력하면 xxx.py라는 프로그램을 실행시킨다."
   ]
  },
  {
   "cell_type": "code",
   "execution_count": 10,
   "metadata": {
    "collapsed": true
   },
   "outputs": [],
   "source": [
    "run white_noise_plot.py"
   ]
  },
  {
   "cell_type": "code",
   "execution_count": null,
   "metadata": {
    "collapsed": true
   },
   "outputs": [],
   "source": []
  },
  {
   "cell_type": "code",
   "execution_count": null,
   "metadata": {
    "collapsed": true
   },
   "outputs": [],
   "source": []
  },
  {
   "cell_type": "markdown",
   "metadata": {},
   "source": [
    "## 4. pwd()\n",
    "\n",
    "pwd() 라고 쓰면 현재 작업중인 폴더를 알려준다. "
   ]
  },
  {
   "cell_type": "code",
   "execution_count": 11,
   "metadata": {
    "collapsed": false
   },
   "outputs": [
    {
     "data": {
      "text/plain": [
       "'/Users/Jerry'"
      ]
     },
     "execution_count": 11,
     "metadata": {},
     "output_type": "execute_result"
    }
   ],
   "source": [
    "pwd()"
   ]
  },
  {
   "cell_type": "code",
   "execution_count": null,
   "metadata": {
    "collapsed": true
   },
   "outputs": [],
   "source": []
  },
  {
   "cell_type": "code",
   "execution_count": null,
   "metadata": {
    "collapsed": true
   },
   "outputs": [],
   "source": []
  },
  {
   "cell_type": "markdown",
   "metadata": {},
   "source": [
    "## 5. ls\n",
    "\n",
    "ls 라고 치면 현재 작업중인 폴더에 있는 파일들과 서브폴더를 보여준다."
   ]
  },
  {
   "cell_type": "code",
   "execution_count": 13,
   "metadata": {
    "collapsed": false
   },
   "outputs": [
    {
     "name": "stdout",
     "output_type": "stream",
     "text": [
      "\u001b[34mApplications\u001b[m\u001b[m/             \u001b[34mLibrary\u001b[m\u001b[m/                  Untitled.ipynb\r\n",
      "\u001b[34mApplications (Parallels)\u001b[m\u001b[m/ \u001b[34mMovies\u001b[m\u001b[m/                   Untitled1.ipynb\r\n",
      "\u001b[34mDesktop\u001b[m\u001b[m/                  \u001b[34mMusic\u001b[m\u001b[m/                    \u001b[34manaconda\u001b[m\u001b[m/\r\n",
      "\u001b[34mDocuments\u001b[m\u001b[m/                \u001b[34mOneDrive\u001b[m\u001b[m/                 white_noise_plot.py\r\n",
      "\u001b[34mDownloads\u001b[m\u001b[m/                \u001b[34mPictures\u001b[m\u001b[m/\r\n",
      "\u001b[34mDropbox\u001b[m\u001b[m/                  \u001b[34mPublic\u001b[m\u001b[m/\r\n"
     ]
    }
   ],
   "source": [
    "ls"
   ]
  },
  {
   "cell_type": "code",
   "execution_count": null,
   "metadata": {
    "collapsed": true
   },
   "outputs": [],
   "source": []
  }
 ],
 "metadata": {
  "kernelspec": {
   "display_name": "Python 3",
   "language": "python",
   "name": "python3"
  },
  "language_info": {
   "codemirror_mode": {
    "name": "ipython",
    "version": 3
   },
   "file_extension": ".py",
   "mimetype": "text/x-python",
   "name": "python",
   "nbconvert_exporter": "python",
   "pygments_lexer": "ipython3",
   "version": "3.5.1"
  }
 },
 "nbformat": 4,
 "nbformat_minor": 0
}
